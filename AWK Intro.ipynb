{
 "cells": [
  {
   "cell_type": "markdown",
   "metadata": {},
   "source": [
    "<h1>AWK Intro</h1>\n",
    "<p>Syntax and basics for AWK, informed by <a href=\"https://www.tutorialspoint.com/awk/index.htm\">tutorialspoint</a></p>"
   ]
  },
  {
   "cell_type": "markdown",
   "metadata": {},
   "source": [
    "<h2>Create Some Data</h2>"
   ]
  },
  {
   "cell_type": "code",
   "execution_count": 2,
   "metadata": {
    "collapsed": false
   },
   "outputs": [],
   "source": [
    "f_contents = \"\"\"1) Amit     Physics    80\n",
    "2) Rahul    Maths      90\n",
    "3) Shyam    Biology    87\n",
    "4) Kedar    English    85\n",
    "5) Hari     History    89\"\"\"\n",
    "with open(\"marks.txt\", \"w\") as f:\n",
    "    f.write(f_contents)"
   ]
  },
  {
   "cell_type": "code",
   "execution_count": 3,
   "metadata": {
    "collapsed": false
   },
   "outputs": [
    {
     "name": "stdout",
     "output_type": "stream",
     "text": [
      "AWK Intro.ipynb LICENSE         README.md       marks.txt\r\n"
     ]
    }
   ],
   "source": [
    "!ls"
   ]
  },
  {
   "cell_type": "code",
   "execution_count": 4,
   "metadata": {
    "collapsed": false
   },
   "outputs": [
    {
     "name": "stdout",
     "output_type": "stream",
     "text": [
      "1) Amit     Physics    80\r\n",
      "2) Rahul    Maths      90\r\n",
      "3) Shyam    Biology    87\r\n",
      "4) Kedar    English    85\r\n",
      "5) Hari     History    89"
     ]
    }
   ],
   "source": [
    "!cat marks.txt"
   ]
  },
  {
   "cell_type": "markdown",
   "metadata": {},
   "source": [
    "<h2>AWK overall structure</h2>\n",
    "<code>\n",
    "    awk '<span style=\"color:blue\">BEGIN</span>{print \"FirstName\"} <span style=\"color:red\">/[AS]/</span> {printf $2 \"\\n\"} <span style=\"color:green\">END</span>{print \"All Done!\"}' marks.txt\n",
    "</code>\n",
    "<ul>\n",
    "    <li><code><span style=\"color:blue\">BEGIN</span></code> OPTIONAL keyword - next action in { } is to be performed before processing the lines</li>\n",
    "    <li><code><span style=\"color:red\">/[AS]/</span></code> OPTIONAL Regular Expression pattern - filter lines by this pattern inside the forward slashes /<em>pattern</em>/</li>\n",
    "    <li><code><span style=\"color:green\">END</span></code> OPTIONAL keyword - next action in { } is to be performed after processing the lines</li>\n",
    "    <li><code>{<em>action</em>}</code> actions to perform, central example is run for each line matching the Regular Expression pattern</li>\n",
    "    <li><code>marks.txt</code> file to iterate over</li>\n",
    "</ul>"
   ]
  },
  {
   "cell_type": "code",
   "execution_count": 20,
   "metadata": {
    "collapsed": false
   },
   "outputs": [
    {
     "name": "stdout",
     "output_type": "stream",
     "text": [
      "FirstName\r\n",
      "Amit\r\n",
      "Shyam\r\n",
      "All Done!\r\n"
     ]
    }
   ],
   "source": [
    "!awk 'BEGIN{print \"FirstName\"} /[AS]/ {printf $2 \"\\n\"} END{print \"All Done!\"}' marks.txt"
   ]
  },
  {
   "cell_type": "markdown",
   "metadata": {},
   "source": [
    "<h2>Action commands</h2>\n",
    "<p> valid statements are made up of multiple of these, separated by semicolons or new lines</p>\n",
    "<code>\n",
    "if( expression ) statement [ else statement ]\n",
    "while( expression ) statement\n",
    "for( expression ; expression ; expression ) statement\n",
    "for( var in array ) statement\n",
    "do statement while( expression )\n",
    "break\n",
    "continue\n",
    "{ [ statement ... ] }\n",
    "expression              # commonly var = expression\n",
    "print [ expression-list ] [ > expression ]\n",
    "printf format [ , expression-list ] [ > expression ]\n",
    "return [ expression ]\n",
    "next                    # skip remaining patterns on this input line\n",
    "nextfile                # skip rest of this file, open next, start at top\n",
    "delete array[ expression ]# delete an array element\n",
    "delete array            # delete all elements of array\n",
    "exit [ expression ]     # exit immediately; status is expression\n",
    "</code>"
   ]
  },
  {
   "cell_type": "markdown",
   "metadata": {},
   "source": [
    "print a field: \\$0 is whole line, \\$1 first field, \\$2 second field, etc"
   ]
  },
  {
   "cell_type": "code",
   "execution_count": 26,
   "metadata": {
    "collapsed": false
   },
   "outputs": [
    {
     "name": "stdout",
     "output_type": "stream",
     "text": [
      "Amit\r\n",
      "Rahul\r\n",
      "Shyam\r\n",
      "Kedar\r\n",
      "Hari\r\n"
     ]
    }
   ],
   "source": [
    "!awk '{print $2}' marks.txt"
   ]
  },
  {
   "cell_type": "markdown",
   "metadata": {},
   "source": [
    "print field if another field matches a condition"
   ]
  },
  {
   "cell_type": "code",
   "execution_count": 40,
   "metadata": {
    "collapsed": false
   },
   "outputs": [
    {
     "name": "stdout",
     "output_type": "stream",
     "text": [
      "Rahul\r\n",
      "Hari\r\n"
     ]
    }
   ],
   "source": [
    "!awk '{if ($4 > 88) print $2}' marks.txt"
   ]
  },
  {
   "cell_type": "code",
   "execution_count": 42,
   "metadata": {
    "collapsed": false
   },
   "outputs": [
    {
     "name": "stdout",
     "output_type": "stream",
     "text": [
      "Rahul\tMaths\r\n"
     ]
    }
   ],
   "source": [
    "!awk '{if ($3 == \"Maths\") print $2 \"\\t\" $3}' marks.txt"
   ]
  },
  {
   "cell_type": "markdown",
   "metadata": {},
   "source": [
    "print lines longer than 18 characters"
   ]
  },
  {
   "cell_type": "code",
   "execution_count": 39,
   "metadata": {
    "collapsed": false
   },
   "outputs": [
    {
     "name": "stdout",
     "output_type": "stream",
     "text": [
      "1) Amit     Physics    80\r\n",
      "2) Rahul    Maths      90\r\n",
      "3) Shyam    Biology    87\r\n",
      "4) Kedar    English    85\r\n",
      "5) Hari     History    89\r\n"
     ]
    }
   ],
   "source": [
    "!awk '{if (length($0) > 10) print $0}' marks.txt"
   ]
  },
  {
   "cell_type": "markdown",
   "metadata": {},
   "source": [
    "count lines matching a regular expression"
   ]
  },
  {
   "cell_type": "code",
   "execution_count": 29,
   "metadata": {
    "collapsed": false
   },
   "outputs": [
    {
     "name": "stdout",
     "output_type": "stream",
     "text": [
      "2 lines\r\n"
     ]
    }
   ],
   "source": [
    "!awk '/[AS]/{++i} END {print i, \"lines\"}' marks.txt"
   ]
  },
  {
   "cell_type": "markdown",
   "metadata": {},
   "source": [
    "<h2>Command Line Options</h2>"
   ]
  },
  {
   "cell_type": "markdown",
   "metadata": {},
   "source": [
    "<h3>-f</h3>\n",
    "<p>-f reads awk query from file e.g. <code>awk -f command.awk marks.txt</code></p>"
   ]
  },
  {
   "cell_type": "code",
   "execution_count": 21,
   "metadata": {
    "collapsed": true
   },
   "outputs": [],
   "source": [
    "with open(\"command.awk\", \"w\") as f:\n",
    "    f.write(\"{print}\")"
   ]
  },
  {
   "cell_type": "code",
   "execution_count": 22,
   "metadata": {
    "collapsed": false
   },
   "outputs": [
    {
     "name": "stdout",
     "output_type": "stream",
     "text": [
      "1) Amit     Physics    80\r\n",
      "2) Rahul    Maths      90\r\n",
      "3) Shyam    Biology    87\r\n",
      "4) Kedar    English    85\r\n",
      "5) Hari     History    89\r\n"
     ]
    }
   ],
   "source": [
    "!awk -f command.awk marks.txt"
   ]
  },
  {
   "cell_type": "code",
   "execution_count": null,
   "metadata": {
    "collapsed": true
   },
   "outputs": [],
   "source": []
  }
 ],
 "metadata": {
  "kernelspec": {
   "display_name": "Python 2",
   "language": "python",
   "name": "python2"
  },
  "language_info": {
   "codemirror_mode": {
    "name": "ipython",
    "version": 2
   },
   "file_extension": ".py",
   "mimetype": "text/x-python",
   "name": "python",
   "nbconvert_exporter": "python",
   "pygments_lexer": "ipython2",
   "version": "2.7.13"
  }
 },
 "nbformat": 4,
 "nbformat_minor": 0
}
